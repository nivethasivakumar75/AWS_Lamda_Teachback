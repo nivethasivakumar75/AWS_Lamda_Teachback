{
 "cells": [
  {
   "cell_type": "code",
   "execution_count": null,
   "id": "55ade880",
   "metadata": {},
   "outputs": [],
   "source": [
    "import json\n",
    "import boto3\n",
    "import pandas as pd\n",
    "import requests\n",
    "from io import StringIO\n",
    "\n",
    "def lambda_handler(event, context):\n",
    "    # TODO implement\n",
    "    \n",
    "    bucket_name = \"group-6-landing-zone\"\n",
    "\n",
    "    weather_url = \"https://raw.githubusercontent.com/nivethasivakumar75/Group_06_IA_FINAL_PROJECT/main/Data/Weather_data.csv\"\n",
    "    weather_df = pd.read_csv(weather_url, sep = \",\", engine = 'python')\n",
    "    \n",
    "    taxi_url = \"https://raw.githubusercontent.com/nivethasivakumar75/Group_06_IA_FINAL_PROJECT/main/Data/green_taxi_reduced.csv\"\n",
    "    taxi_df = pd.read_csv(taxi_url, sep = \",\", engine = 'python')\n",
    "\n",
    "    # Convert DataFrame to CSV string\n",
    "    csv_buffer_weather = StringIO()\n",
    "    weather_df.to_csv(csv_buffer_weather, index=False)\n",
    "    csv_string_weather = csv_buffer_weather.getvalue()\n",
    "    \n",
    "    csv_buffer_taxi = StringIO()\n",
    "    taxi_df.to_csv(csv_buffer_taxi, index=False)\n",
    "    csv_string_taxi = csv_buffer_taxi.getvalue()\n",
    "    \n",
    "    # Create S3 client\n",
    "    s3_client = boto3.client('s3')\n",
    "\n",
    "    weather_filename = f\"weather.csv\" \n",
    "    taxi_filename = f\"green_taxi.csv\"\n",
    "    \n",
    "    # Upload CSV data to S3 bucket\n",
    "    s3_client.put_object(Body=csv_string_weather, Bucket=bucket_name, Key=weather_filename)\n",
    "    s3_client.put_object(Body=csv_string_taxi, Bucket=bucket_name, Key=taxi_filename)\n",
    "\n",
    "    return {\n",
    "        'statusCode': 200,\n",
    "        'body': json.dumps(f\"Data uploaded to S3 bucket: {bucket_name}\")\n",
    "    }"
   ]
  }
 ],
 "metadata": {
  "kernelspec": {
   "display_name": "Python 3 (ipykernel)",
   "language": "python",
   "name": "python3"
  },
  "language_info": {
   "codemirror_mode": {
    "name": "ipython",
    "version": 3
   },
   "file_extension": ".py",
   "mimetype": "text/x-python",
   "name": "python",
   "nbconvert_exporter": "python",
   "pygments_lexer": "ipython3",
   "version": "3.11.5"
  }
 },
 "nbformat": 4,
 "nbformat_minor": 5
}
